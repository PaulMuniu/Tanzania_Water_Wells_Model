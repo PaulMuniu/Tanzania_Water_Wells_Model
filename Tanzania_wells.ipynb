{
 "cells": [
  {
   "cell_type": "markdown",
   "metadata": {},
   "source": [
    "# Tanzania Water Wells 🚰 Prediction Model.\n",
    "*By Muniu Paul ™️*"
   ]
  },
  {
   "cell_type": "markdown",
   "metadata": {},
   "source": [
    "## 1. BUSINESS UNDERSTANDING.\n",
    "### Overview.\n",
    "Tanzania, a developing country with a population of 68.42 million as of January 2024, faces significant challenges in providing clean water to its people. According to a recent United Nations World Water Development Report, around 2 billion people globally lack access to clean and safe drinking water. In Tanzania, the crisis is even more acute: out of its 65 million people, 58 million (88% of the population) lack access to safe water. This severe shortage of clean water exacerbates health issues, economic hardships, and educational disparities across the country.\n",
    "\n",
    "### Problem Statement.\n",
    "The aim of this project is to predict the operational status of water wells in Tanzania using data on various features such as the type of pump, the year it was installed, and the management practices. Accurately predicting which water points are functional, which need repairs and which are non-functional will enable more effective maintenance operations and improve access to clean water for Tanzanian communities.\n",
    "\n",
    "### Objectives.\n",
    "1. Data Analysis and Preprocessing: Thoroughly analyze and clean the dataset to ensure it is suitable for modeling.\n",
    "2. Model Development: Train and evaluate multiple classification models to identify the most accurate and precise model for predicting the status of water wells.\n",
    "3. Model Evaluation: Use accuracy and precision as the primary metrics to evaluate the model's performance. These metrics will help determine how well the model identifies the status of water wells given various factors.\n",
    "4. Deployment: Deploy the final model to our stakeholders, to aid in making data-driven decisions for maintaining and improving water access in Tanzania.\n",
    "\n",
    "### Stakeholder: **WaterAid**\n",
    "*Organization Overview.*\n",
    "\n",
    "WaterAid is an international non-governmental organization (NGO) based in the United Kingdom. The organization is dedicated exclusively to ensuring equitable access to safe water, sanitation and hygiene education for the world’s poorest communities. WaterAid has a profound impact on improving health, education, and economic opportunities by providing sustainable solutions for water and sanitation.\n",
    "\n",
    "*Project Mandate.*\n",
    "\n",
    "WaterAid has tasked us with developing a predictive model to determine the operational status of water wells in Tanzania. This life-changing project aims to optimize the allocation of resources for maintenance and repair, ensuring that more people have access to clean and safe drinking water. By leveraging data-driven insights, WaterAid can enhance its mission of providing essential water services to underserved communities and contribute to global efforts in alleviating water and sanitation crises."
   ]
  },
  {
   "cell_type": "markdown",
   "metadata": {},
   "source": [
    "# 2. DATA UNDERSTANDING.\n",
    "The dataset provided by [Taarifa](https://taarifa.org/) and the [Tanzanian Ministry of Water](https://www.maji.go.tz/) contains extensive information about various water points across Tanzania. Additionally, the features in this dataset are found [here.](https://www.drivendata.org/competitions/7/pump-it-up-data-mining-the-water-table/page/25/)"
   ]
  },
  {
   "cell_type": "markdown",
   "metadata": {},
   "source": [
    "##### Importing packages/libraries"
   ]
  },
  {
   "cell_type": "code",
   "execution_count": 122,
   "metadata": {},
   "outputs": [],
   "source": [
    "import pandas as pandas\n",
    "import numpy as np\n",
    "import seaborn as sns\n",
    "import matplotlib.pyplot as plt\n",
    "\n",
    "%matplotlib inline\n",
    "\n",
    "import missingno as msno\n",
    "from sklearn.preprocessing import OneHotEncoder, StandardScaler\n",
    "from sklearn.impute import SimpleImputer\n",
    "from sklearn.model_selection import train_test_split, cross_val_score, cross_validate, GridSearchCV\n",
    "from sklearn.metrics import confusion_matrix, ConfusionMatrixDisplay, precision_score, accuracy_score\n",
    "from sklearn.linear_model import LogisticRegression\n",
    "from sklearn.tree import DecisionTreeClassifier\n",
    "from sklearn.neighbors import KNeighborsClassifier\n",
    "from sklearn.ensemble import RandomForestClassifier\n",
    "from sklearn.metrics import classification_report\n",
    "import warnings\n",
    "warnings.filterwarnings('ignore')\n"
   ]
  },
  {
   "cell_type": "markdown",
   "metadata": {},
   "source": [
    "##### Loading the Dataset"
   ]
  },
  {
   "cell_type": "code",
   "execution_count": 123,
   "metadata": {},
   "outputs": [
    {
     "name": "stdout",
     "output_type": "stream",
     "text": [
      "<class 'pandas.core.frame.DataFrame'>\n",
      "RangeIndex: 59400 entries, 0 to 59399\n",
      "Data columns (total 40 columns):\n",
      " #   Column                 Non-Null Count  Dtype  \n",
      "---  ------                 --------------  -----  \n",
      " 0   id                     59400 non-null  int64  \n",
      " 1   amount_tsh             59400 non-null  float64\n",
      " 2   date_recorded          59400 non-null  object \n",
      " 3   funder                 55763 non-null  object \n",
      " 4   gps_height             59400 non-null  int64  \n",
      " 5   installer              55745 non-null  object \n",
      " 6   longitude              59400 non-null  float64\n",
      " 7   latitude               59400 non-null  float64\n",
      " 8   wpt_name               59398 non-null  object \n",
      " 9   num_private            59400 non-null  int64  \n",
      " 10  basin                  59400 non-null  object \n",
      " 11  subvillage             59029 non-null  object \n",
      " 12  region                 59400 non-null  object \n",
      " 13  region_code            59400 non-null  int64  \n",
      " 14  district_code          59400 non-null  int64  \n",
      " 15  lga                    59400 non-null  object \n",
      " 16  ward                   59400 non-null  object \n",
      " 17  population             59400 non-null  int64  \n",
      " 18  public_meeting         56066 non-null  object \n",
      " 19  recorded_by            59400 non-null  object \n",
      " 20  scheme_management      55522 non-null  object \n",
      " 21  scheme_name            30590 non-null  object \n",
      " 22  permit                 56344 non-null  object \n",
      " 23  construction_year      59400 non-null  int64  \n",
      " 24  extraction_type        59400 non-null  object \n",
      " 25  extraction_type_group  59400 non-null  object \n",
      " 26  extraction_type_class  59400 non-null  object \n",
      " 27  management             59400 non-null  object \n",
      " 28  management_group       59400 non-null  object \n",
      " 29  payment                59400 non-null  object \n",
      " 30  payment_type           59400 non-null  object \n",
      " 31  water_quality          59400 non-null  object \n",
      " 32  quality_group          59400 non-null  object \n",
      " 33  quantity               59400 non-null  object \n",
      " 34  quantity_group         59400 non-null  object \n",
      " 35  source                 59400 non-null  object \n",
      " 36  source_type            59400 non-null  object \n",
      " 37  source_class           59400 non-null  object \n",
      " 38  waterpoint_type        59400 non-null  object \n",
      " 39  waterpoint_type_group  59400 non-null  object \n",
      "dtypes: float64(3), int64(7), object(30)\n",
      "memory usage: 18.1+ MB\n"
     ]
    }
   ],
   "source": [
    "import pandas as pd\n",
    "data_values = pd.read_csv(\"Data/wells_data_values.csv\")\n",
    "data_values.info()\n",
    "\n",
    "# function \n"
   ]
  },
  {
   "cell_type": "markdown",
   "metadata": {},
   "source": [
    "The dataset consits of a total of 40 Columns and 59400 records. The features include:\n",
    "\n",
    "`amount_tsh`: Total static head (amount of water available to the waterpoint)\n",
    "\n",
    "`date_recorded`: The date the row was entered\n",
    "\n",
    "`funder`: The entity that funded the well\n",
    "\n",
    "`gps_height`: Altitude of the well\n",
    "\n",
    "`installer`: Organization that installed the well\n",
    "\n",
    "`longitude`: GPS coordinate\n",
    "\n",
    "`latitude`: GPS coordinate\n",
    "\n",
    "`wpt_name`: Name of the waterpoint, if there is one\n",
    "\n",
    "`num_private`: Not specified (likely an identifier for private records)\n",
    "\n",
    "`basin`: Geographic water basin\n",
    "\n",
    "`subvillage`: Geographic location\n",
    "\n",
    "`region`: Geographic location\n",
    "\n",
    "`region_code`: Geographic location (coded)\n",
    "\n",
    "`district_code`: Geographic location (coded)\n",
    "\n",
    "`lga`: Local Government Area\n",
    "\n",
    "`ward`: Geographic location\n",
    "\n",
    "`population`: Population around the well\n",
    "\n",
    "`public_meeting`: Boolean indicating if a public meeting was held\n",
    "\n",
    "`recorded_by`: Group entering this row of data\n",
    "\n",
    "`scheme_management`: Entity responsible for managing the water scheme\n",
    "\n",
    "`scheme_name`: Name of the water scheme\n",
    "\n",
    "`permit`: Boolean indicating if the waterpoint is permitted\n",
    "\n",
    "`construction_year`: Year the waterpoint was constructed\n",
    "\n",
    "`extraction_type`: Type of extraction used by the waterpoint\n",
    "\n",
    "`extraction_type_group`: Group classification of extraction type\n",
    "\n",
    "`extraction_type_class`: Class classification of extraction type\n",
    "\n",
    "`management`: How the waterpoint is managed\n",
    "\n",
    "`management_group`: Group classification of management type\n",
    "\n",
    "`payment`: Type of payment for water\n",
    "\n",
    "`payment_type`: Group classification of payment type\n",
    "\n",
    "`water_quality`: Quality of the water\n",
    "\n",
    "`quality_group`: Group classification of water quality\n",
    "\n",
    "`quantity`: Quantity of water\n",
    "\n",
    "`quantity_group`: Group classification of water quantity\n",
    "\n",
    "`source`: Source of the water\n",
    "\n",
    "`source_type`: Group classification of water source\n",
    "\n",
    "`source_class`: Class classification of water source\n",
    "\n",
    "`waterpoint_type`: Type of waterpoint\n",
    "\n",
    "`waterpoint_type_group`: Group classification of waterpoint type\n",
    "\n"
   ]
  },
  {
   "cell_type": "code",
   "execution_count": 124,
   "metadata": {},
   "outputs": [
    {
     "name": "stdout",
     "output_type": "stream",
     "text": [
      "<class 'pandas.core.frame.DataFrame'>\n",
      "RangeIndex: 59400 entries, 0 to 59399\n",
      "Data columns (total 2 columns):\n",
      " #   Column        Non-Null Count  Dtype \n",
      "---  ------        --------------  ----- \n",
      " 0   id            59400 non-null  int64 \n",
      " 1   status_group  59400 non-null  object\n",
      "dtypes: int64(1), object(1)\n",
      "memory usage: 928.3+ KB\n",
      "--------------------------------------------\n",
      "1.FUNCTIONAL\n",
      "2.NON FUNCTIONAL\n",
      "3.FUNCTIONAL NEEDS REPAIR\n"
     ]
    }
   ],
   "source": [
    "data_labels = pd.read_csv(\"Data/wells_labels.csv\")\n",
    "data_labels.info()\n",
    "print(\"--------------------------------------------\")\n",
    "for index, status_group  in enumerate(data_labels[\"status_group\"].unique() , start=1):\n",
    "    print(f\"{index}.{status_group.upper()}\")"
   ]
  },
  {
   "cell_type": "markdown",
   "metadata": {},
   "source": [
    "Target Variable\n",
    "The target variable is the operational status \"`status_group`\" of the water point, which has three possible values:\n",
    "\n",
    "1. `Functional`: The waterpoint is operational, and no repairs are needed.\n",
    "2. `Non functional`: The waterpoint is not operational.\n",
    "3. `Functional needs repair`: The waterpoint is operational but requires repairs.\n"
   ]
  },
  {
   "cell_type": "markdown",
   "metadata": {},
   "source": [
    "# 3. DATA PREPARATION.\n",
    "#### (a) Merging.\n",
    "We will kick-off by merging the two datasets."
   ]
  },
  {
   "cell_type": "code",
   "execution_count": 125,
   "metadata": {},
   "outputs": [
    {
     "data": {
      "text/plain": [
       "((59400, 2), (59400, 40))"
      ]
     },
     "execution_count": 125,
     "metadata": {},
     "output_type": "execute_result"
    }
   ],
   "source": [
    "# estatic to see both datasets have the same number of rows!\n",
    "data_labels.shape, data_values.shape"
   ]
  },
  {
   "cell_type": "code",
   "execution_count": 126,
   "metadata": {},
   "outputs": [
    {
     "name": "stdout",
     "output_type": "stream",
     "text": [
      "(59400, 41)\n"
     ]
    },
    {
     "data": {
      "text/html": [
       "<div>\n",
       "<style scoped>\n",
       "    .dataframe tbody tr th:only-of-type {\n",
       "        vertical-align: middle;\n",
       "    }\n",
       "\n",
       "    .dataframe tbody tr th {\n",
       "        vertical-align: top;\n",
       "    }\n",
       "\n",
       "    .dataframe thead th {\n",
       "        text-align: right;\n",
       "    }\n",
       "</style>\n",
       "<table border=\"1\" class=\"dataframe\">\n",
       "  <thead>\n",
       "    <tr style=\"text-align: right;\">\n",
       "      <th></th>\n",
       "      <th>id</th>\n",
       "      <th>amount_tsh</th>\n",
       "      <th>date_recorded</th>\n",
       "      <th>funder</th>\n",
       "      <th>gps_height</th>\n",
       "      <th>installer</th>\n",
       "      <th>longitude</th>\n",
       "      <th>latitude</th>\n",
       "      <th>wpt_name</th>\n",
       "      <th>num_private</th>\n",
       "      <th>...</th>\n",
       "      <th>water_quality</th>\n",
       "      <th>quality_group</th>\n",
       "      <th>quantity</th>\n",
       "      <th>quantity_group</th>\n",
       "      <th>source</th>\n",
       "      <th>source_type</th>\n",
       "      <th>source_class</th>\n",
       "      <th>waterpoint_type</th>\n",
       "      <th>waterpoint_type_group</th>\n",
       "      <th>status_group</th>\n",
       "    </tr>\n",
       "  </thead>\n",
       "  <tbody>\n",
       "    <tr>\n",
       "      <th>40023</th>\n",
       "      <td>10213</td>\n",
       "      <td>0.0</td>\n",
       "      <td>2011-08-08</td>\n",
       "      <td>Swedish</td>\n",
       "      <td>0</td>\n",
       "      <td>Sengerema Water Department</td>\n",
       "      <td>32.183656</td>\n",
       "      <td>-2.407555</td>\n",
       "      <td>Buhindini Forest</td>\n",
       "      <td>0</td>\n",
       "      <td>...</td>\n",
       "      <td>soft</td>\n",
       "      <td>good</td>\n",
       "      <td>enough</td>\n",
       "      <td>enough</td>\n",
       "      <td>shallow well</td>\n",
       "      <td>shallow well</td>\n",
       "      <td>groundwater</td>\n",
       "      <td>hand pump</td>\n",
       "      <td>hand pump</td>\n",
       "      <td>functional</td>\n",
       "    </tr>\n",
       "    <tr>\n",
       "      <th>18682</th>\n",
       "      <td>19730</td>\n",
       "      <td>0.0</td>\n",
       "      <td>2012-10-22</td>\n",
       "      <td>Government Of Tanzania</td>\n",
       "      <td>1523</td>\n",
       "      <td>Government</td>\n",
       "      <td>33.988200</td>\n",
       "      <td>-1.720046</td>\n",
       "      <td>Mahakamani</td>\n",
       "      <td>0</td>\n",
       "      <td>...</td>\n",
       "      <td>soft</td>\n",
       "      <td>good</td>\n",
       "      <td>enough</td>\n",
       "      <td>enough</td>\n",
       "      <td>lake</td>\n",
       "      <td>river/lake</td>\n",
       "      <td>surface</td>\n",
       "      <td>communal standpipe multiple</td>\n",
       "      <td>communal standpipe</td>\n",
       "      <td>non functional</td>\n",
       "    </tr>\n",
       "    <tr>\n",
       "      <th>44199</th>\n",
       "      <td>69361</td>\n",
       "      <td>50.0</td>\n",
       "      <td>2013-03-19</td>\n",
       "      <td>0</td>\n",
       "      <td>56</td>\n",
       "      <td>0</td>\n",
       "      <td>39.118177</td>\n",
       "      <td>-6.892027</td>\n",
       "      <td>Kwa Mzee Huruju</td>\n",
       "      <td>0</td>\n",
       "      <td>...</td>\n",
       "      <td>soft</td>\n",
       "      <td>good</td>\n",
       "      <td>enough</td>\n",
       "      <td>enough</td>\n",
       "      <td>machine dbh</td>\n",
       "      <td>borehole</td>\n",
       "      <td>groundwater</td>\n",
       "      <td>communal standpipe</td>\n",
       "      <td>communal standpipe</td>\n",
       "      <td>non functional</td>\n",
       "    </tr>\n",
       "  </tbody>\n",
       "</table>\n",
       "<p>3 rows × 41 columns</p>\n",
       "</div>"
      ],
      "text/plain": [
       "          id  amount_tsh date_recorded                  funder  gps_height  \\\n",
       "40023  10213         0.0    2011-08-08                 Swedish           0   \n",
       "18682  19730         0.0    2012-10-22  Government Of Tanzania        1523   \n",
       "44199  69361        50.0    2013-03-19                       0          56   \n",
       "\n",
       "                        installer  longitude  latitude          wpt_name  \\\n",
       "40023  Sengerema Water Department  32.183656 -2.407555  Buhindini Forest   \n",
       "18682                  Government  33.988200 -1.720046        Mahakamani   \n",
       "44199                           0  39.118177 -6.892027   Kwa Mzee Huruju   \n",
       "\n",
       "       num_private  ... water_quality quality_group quantity  quantity_group  \\\n",
       "40023            0  ...          soft          good   enough          enough   \n",
       "18682            0  ...          soft          good   enough          enough   \n",
       "44199            0  ...          soft          good   enough          enough   \n",
       "\n",
       "             source   source_type source_class              waterpoint_type  \\\n",
       "40023  shallow well  shallow well  groundwater                    hand pump   \n",
       "18682          lake    river/lake      surface  communal standpipe multiple   \n",
       "44199   machine dbh      borehole  groundwater           communal standpipe   \n",
       "\n",
       "      waterpoint_type_group    status_group  \n",
       "40023             hand pump      functional  \n",
       "18682    communal standpipe  non functional  \n",
       "44199    communal standpipe  non functional  \n",
       "\n",
       "[3 rows x 41 columns]"
      ]
     },
     "execution_count": 126,
     "metadata": {},
     "output_type": "execute_result"
    }
   ],
   "source": [
    "# merging the predictors and the target\n",
    "wells_data = pd.merge(data_values, data_labels, on = \"id\", how=\"outer\" )\n",
    "print(wells_data.shape)\n",
    "wells_data.sample(3)"
   ]
  },
  {
   "cell_type": "markdown",
   "metadata": {},
   "source": [
    "#### (b)Feature Dropping.\n",
    "\n",
    "I eliminated features that were redundant or unusable for our models. Many features contained similar information, and some, such as `num_private`, lacked sufficient descriptions for meaningful use. This trimming process helps streamline our dataset and improve model performance.\n"
   ]
  },
  {
   "cell_type": "code",
   "execution_count": 127,
   "metadata": {},
   "outputs": [
    {
     "data": {
      "text/html": [
       "<div>\n",
       "<style scoped>\n",
       "    .dataframe tbody tr th:only-of-type {\n",
       "        vertical-align: middle;\n",
       "    }\n",
       "\n",
       "    .dataframe tbody tr th {\n",
       "        vertical-align: top;\n",
       "    }\n",
       "\n",
       "    .dataframe thead th {\n",
       "        text-align: right;\n",
       "    }\n",
       "</style>\n",
       "<table border=\"1\" class=\"dataframe\">\n",
       "  <thead>\n",
       "    <tr style=\"text-align: right;\">\n",
       "      <th></th>\n",
       "      <th>num_private</th>\n",
       "      <th>wpt_name</th>\n",
       "      <th>recorded_by</th>\n",
       "      <th>scheme_name</th>\n",
       "      <th>public_meeting</th>\n",
       "      <th>payment</th>\n",
       "      <th>extraction_type_group</th>\n",
       "      <th>extraction_type_class</th>\n",
       "      <th>management</th>\n",
       "      <th>water_quality</th>\n",
       "      <th>...</th>\n",
       "      <th>subvillage</th>\n",
       "      <th>scheme_name</th>\n",
       "      <th>scheme_management</th>\n",
       "      <th>public_meeting</th>\n",
       "      <th>source</th>\n",
       "      <th>source_class</th>\n",
       "      <th>longitude</th>\n",
       "      <th>latitude</th>\n",
       "      <th>quantity_group</th>\n",
       "      <th>waterpoint_type</th>\n",
       "    </tr>\n",
       "  </thead>\n",
       "  <tbody>\n",
       "    <tr>\n",
       "      <th>31314</th>\n",
       "      <td>0</td>\n",
       "      <td>Ilumbila</td>\n",
       "      <td>GeoData Consultants Ltd</td>\n",
       "      <td>NaN</td>\n",
       "      <td>False</td>\n",
       "      <td>pay when scheme fails</td>\n",
       "      <td>nira/tanira</td>\n",
       "      <td>handpump</td>\n",
       "      <td>vwc</td>\n",
       "      <td>soft</td>\n",
       "      <td>...</td>\n",
       "      <td>Sanya</td>\n",
       "      <td>NaN</td>\n",
       "      <td>VWC</td>\n",
       "      <td>False</td>\n",
       "      <td>shallow well</td>\n",
       "      <td>groundwater</td>\n",
       "      <td>33.167275</td>\n",
       "      <td>-9.040657</td>\n",
       "      <td>seasonal</td>\n",
       "      <td>hand pump</td>\n",
       "    </tr>\n",
       "    <tr>\n",
       "      <th>29271</th>\n",
       "      <td>0</td>\n",
       "      <td>Kwabita</td>\n",
       "      <td>GeoData Consultants Ltd</td>\n",
       "      <td>NaN</td>\n",
       "      <td>True</td>\n",
       "      <td>never pay</td>\n",
       "      <td>india mark ii</td>\n",
       "      <td>handpump</td>\n",
       "      <td>vwc</td>\n",
       "      <td>salty</td>\n",
       "      <td>...</td>\n",
       "      <td>Rwakibugu</td>\n",
       "      <td>NaN</td>\n",
       "      <td>NaN</td>\n",
       "      <td>True</td>\n",
       "      <td>shallow well</td>\n",
       "      <td>groundwater</td>\n",
       "      <td>30.965754</td>\n",
       "      <td>-1.745585</td>\n",
       "      <td>enough</td>\n",
       "      <td>hand pump</td>\n",
       "    </tr>\n",
       "  </tbody>\n",
       "</table>\n",
       "<p>2 rows × 24 columns</p>\n",
       "</div>"
      ],
      "text/plain": [
       "       num_private  wpt_name              recorded_by scheme_name  \\\n",
       "31314            0  Ilumbila  GeoData Consultants Ltd         NaN   \n",
       "29271            0   Kwabita  GeoData Consultants Ltd         NaN   \n",
       "\n",
       "       public_meeting                payment extraction_type_group  \\\n",
       "31314           False  pay when scheme fails           nira/tanira   \n",
       "29271            True              never pay         india mark ii   \n",
       "\n",
       "      extraction_type_class management water_quality  ... subvillage  \\\n",
       "31314              handpump        vwc          soft  ...      Sanya   \n",
       "29271              handpump        vwc         salty  ...  Rwakibugu   \n",
       "\n",
       "      scheme_name  scheme_management  public_meeting        source  \\\n",
       "31314         NaN                VWC           False  shallow well   \n",
       "29271         NaN                NaN            True  shallow well   \n",
       "\n",
       "      source_class  longitude  latitude quantity_group waterpoint_type  \n",
       "31314  groundwater  33.167275 -9.040657       seasonal       hand pump  \n",
       "29271  groundwater  30.965754 -1.745585         enough       hand pump  \n",
       "\n",
       "[2 rows x 24 columns]"
      ]
     },
     "execution_count": 127,
     "metadata": {},
     "output_type": "execute_result"
    }
   ],
   "source": [
    "columns_to_delete = ['num_private', 'wpt_name', 'recorded_by', 'scheme_name', 'public_meeting', 'payment',\n",
    "                     'extraction_type_group', 'extraction_type_class', 'management', 'water_quality',\n",
    "                     'lga', 'ward', 'region_code', 'district_code', 'subvillage', \"scheme_name\", \"scheme_management\",\n",
    "                     \"public_meeting\",'source', 'source_class', 'longitude', 'latitude', 'quantity_group', 'waterpoint_type']\n",
    "\n",
    "# Print the columns to delete\n",
    "wells_data[columns_to_delete].sample(2)"
   ]
  },
  {
   "cell_type": "code",
   "execution_count": 128,
   "metadata": {},
   "outputs": [
    {
     "name": "stdout",
     "output_type": "stream",
     "text": [
      "(59400, 19)\n"
     ]
    },
    {
     "data": {
      "text/html": [
       "<div>\n",
       "<style scoped>\n",
       "    .dataframe tbody tr th:only-of-type {\n",
       "        vertical-align: middle;\n",
       "    }\n",
       "\n",
       "    .dataframe tbody tr th {\n",
       "        vertical-align: top;\n",
       "    }\n",
       "\n",
       "    .dataframe thead th {\n",
       "        text-align: right;\n",
       "    }\n",
       "</style>\n",
       "<table border=\"1\" class=\"dataframe\">\n",
       "  <thead>\n",
       "    <tr style=\"text-align: right;\">\n",
       "      <th></th>\n",
       "      <th>id</th>\n",
       "      <th>amount_tsh</th>\n",
       "      <th>date_recorded</th>\n",
       "      <th>funder</th>\n",
       "      <th>gps_height</th>\n",
       "      <th>installer</th>\n",
       "      <th>basin</th>\n",
       "      <th>region</th>\n",
       "      <th>population</th>\n",
       "      <th>permit</th>\n",
       "      <th>construction_year</th>\n",
       "      <th>extraction_type</th>\n",
       "      <th>management_group</th>\n",
       "      <th>payment_type</th>\n",
       "      <th>quality_group</th>\n",
       "      <th>quantity</th>\n",
       "      <th>source_type</th>\n",
       "      <th>waterpoint_type_group</th>\n",
       "      <th>status_group</th>\n",
       "    </tr>\n",
       "  </thead>\n",
       "  <tbody>\n",
       "    <tr>\n",
       "      <th>54930</th>\n",
       "      <td>73196</td>\n",
       "      <td>0.0</td>\n",
       "      <td>2011-07-10</td>\n",
       "      <td>Msikiti</td>\n",
       "      <td>0</td>\n",
       "      <td>Msikiti</td>\n",
       "      <td>Lake Victoria</td>\n",
       "      <td>Kagera</td>\n",
       "      <td>0</td>\n",
       "      <td>True</td>\n",
       "      <td>0</td>\n",
       "      <td>swn 80</td>\n",
       "      <td>commercial</td>\n",
       "      <td>never pay</td>\n",
       "      <td>good</td>\n",
       "      <td>enough</td>\n",
       "      <td>shallow well</td>\n",
       "      <td>hand pump</td>\n",
       "      <td>functional</td>\n",
       "    </tr>\n",
       "    <tr>\n",
       "      <th>38289</th>\n",
       "      <td>29481</td>\n",
       "      <td>0.0</td>\n",
       "      <td>2011-04-09</td>\n",
       "      <td>World Bank</td>\n",
       "      <td>0</td>\n",
       "      <td>SAXON</td>\n",
       "      <td>Wami / Ruvu</td>\n",
       "      <td>Dodoma</td>\n",
       "      <td>0</td>\n",
       "      <td>True</td>\n",
       "      <td>0</td>\n",
       "      <td>gravity</td>\n",
       "      <td>user-group</td>\n",
       "      <td>per bucket</td>\n",
       "      <td>good</td>\n",
       "      <td>enough</td>\n",
       "      <td>spring</td>\n",
       "      <td>cattle trough</td>\n",
       "      <td>functional</td>\n",
       "    </tr>\n",
       "  </tbody>\n",
       "</table>\n",
       "</div>"
      ],
      "text/plain": [
       "          id  amount_tsh date_recorded      funder  gps_height installer  \\\n",
       "54930  73196         0.0    2011-07-10     Msikiti           0   Msikiti   \n",
       "38289  29481         0.0    2011-04-09  World Bank           0     SAXON   \n",
       "\n",
       "               basin  region  population permit  construction_year  \\\n",
       "54930  Lake Victoria  Kagera           0   True                  0   \n",
       "38289    Wami / Ruvu  Dodoma           0   True                  0   \n",
       "\n",
       "      extraction_type management_group payment_type quality_group quantity  \\\n",
       "54930          swn 80       commercial    never pay          good   enough   \n",
       "38289         gravity       user-group   per bucket          good   enough   \n",
       "\n",
       "        source_type waterpoint_type_group status_group  \n",
       "54930  shallow well             hand pump   functional  \n",
       "38289        spring         cattle trough   functional  "
      ]
     },
     "execution_count": 128,
     "metadata": {},
     "output_type": "execute_result"
    }
   ],
   "source": [
    "wells_data = wells_data.drop(columns = columns_to_delete)\n",
    "print(wells_data.shape)\n",
    "wells_data.sample(2)"
   ]
  },
  {
   "cell_type": "code",
   "execution_count": 129,
   "metadata": {},
   "outputs": [
    {
     "data": {
      "text/plain": [
       "0"
      ]
     },
     "execution_count": 129,
     "metadata": {},
     "output_type": "execute_result"
    }
   ],
   "source": [
    "# Checking for duplicates\n",
    "wells_data.duplicated().sum()"
   ]
  },
  {
   "cell_type": "markdown",
   "metadata": {},
   "source": [
    "##### Handling Missing Values\n"
   ]
  },
  {
   "cell_type": "code",
   "execution_count": 130,
   "metadata": {},
   "outputs": [
    {
     "data": {
      "text/html": [
       "<div>\n",
       "<style scoped>\n",
       "    .dataframe tbody tr th:only-of-type {\n",
       "        vertical-align: middle;\n",
       "    }\n",
       "\n",
       "    .dataframe tbody tr th {\n",
       "        vertical-align: top;\n",
       "    }\n",
       "\n",
       "    .dataframe thead th {\n",
       "        text-align: right;\n",
       "    }\n",
       "</style>\n",
       "<table border=\"1\" class=\"dataframe\">\n",
       "  <thead>\n",
       "    <tr style=\"text-align: right;\">\n",
       "      <th></th>\n",
       "      <th>Missing Values</th>\n",
       "      <th>In Percentage</th>\n",
       "    </tr>\n",
       "  </thead>\n",
       "  <tbody>\n",
       "    <tr>\n",
       "      <th>installer</th>\n",
       "      <td>3655</td>\n",
       "      <td>6.153199</td>\n",
       "    </tr>\n",
       "    <tr>\n",
       "      <th>funder</th>\n",
       "      <td>3637</td>\n",
       "      <td>6.122896</td>\n",
       "    </tr>\n",
       "    <tr>\n",
       "      <th>permit</th>\n",
       "      <td>3056</td>\n",
       "      <td>5.144781</td>\n",
       "    </tr>\n",
       "  </tbody>\n",
       "</table>\n",
       "</div>"
      ],
      "text/plain": [
       "           Missing Values  In Percentage\n",
       "installer            3655       6.153199\n",
       "funder               3637       6.122896\n",
       "permit               3056       5.144781"
      ]
     },
     "execution_count": 130,
     "metadata": {},
     "output_type": "execute_result"
    }
   ],
   "source": [
    "#function for identifying with missing values\n",
    "def missing_values(data):\n",
    "    \"\"\"\n",
    "    Identify the missing values and their percentages\n",
    "    Drop values that have no missing values\n",
    "    Return only data with missing values\n",
    "    \"\"\"\n",
    "    miss_val = data.isna().sum().sort_values(ascending = False)\n",
    "    percentage = (data.isna().sum() / len(data)).sort_values(ascending = False)\n",
    "    missing_values = pd.DataFrame({\"Missing Values\": miss_val, \"In Percentage\": (percentage)*100})\n",
    "    missing_values.drop(missing_values[missing_values[\"In Percentage\"] == 0].index, inplace=True)\n",
    "    return missing_values\n",
    "\n",
    "missing_values(wells_data)"
   ]
  },
  {
   "cell_type": "markdown",
   "metadata": {},
   "source": [
    "\n",
    "\n",
    "I observed that certain columns in our dataset had a small percentage of missing values. \n",
    "Given that the percentage of missing values in these columns is relatively low, I decided to drop the rows containing missing values in these columns. This approach ensures that we do not risk introducing any bias or inaccuracies that could result from improper imputation\n"
   ]
  },
  {
   "cell_type": "code",
   "execution_count": 131,
   "metadata": {},
   "outputs": [
    {
     "data": {
      "image/png": "[encoded data removed]",
      "text/plain": [
       "<Figure size 1600x300 with 3 Axes>"
      ]
     },
     "metadata": {},
     "output_type": "display_data"
    }
   ],
   "source": [
    "# Dropping rows with missing values in the specified columns\n",
    "wells_data = wells_data.dropna(subset=['installer', 'funder', 'permit'])\n",
    "\n",
    "# Visualise to verify any missing data in the DataFrame\n",
    "msno.bar(wells_data, figsize=(16, 3), fontsize=(10), color='darkblue')\n",
    "plt.title(\"Missing Data Visualisation\")\n",
    "plt.xticks(rotation = 90, fontsize=10);"
   ]
  },
  {
   "cell_type": "code",
   "execution_count": 132,
   "metadata": {},
   "outputs": [
    {
     "name": "stdout",
     "output_type": "stream",
     "text": [
      "<class 'pandas.core.frame.DataFrame'>\n",
      "Index: 55060 entries, 0 to 59399\n",
      "Data columns (total 19 columns):\n",
      " #   Column                 Non-Null Count  Dtype  \n",
      "---  ------                 --------------  -----  \n",
      " 0   id                     55060 non-null  int64  \n",
      " 1   amount_tsh             55060 non-null  float64\n",
      " 2   date_recorded          55060 non-null  object \n",
      " 3   funder                 55060 non-null  object \n",
      " 4   gps_height             55060 non-null  int64  \n",
      " 5   installer              55060 non-null  object \n",
      " 6   basin                  55060 non-null  object \n",
      " 7   region                 55060 non-null  object \n",
      " 8   population             55060 non-null  int64  \n",
      " 9   permit                 55060 non-null  object \n",
      " 10  construction_year      55060 non-null  int64  \n",
      " 11  extraction_type        55060 non-null  object \n",
      " 12  management_group       55060 non-null  object \n",
      " 13  payment_type           55060 non-null  object \n",
      " 14  quality_group          55060 non-null  object \n",
      " 15  quantity               55060 non-null  object \n",
      " 16  source_type            55060 non-null  object \n",
      " 17  waterpoint_type_group  55060 non-null  object \n",
      " 18  status_group           55060 non-null  object \n",
      "dtypes: float64(1), int64(4), object(14)\n",
      "memory usage: 8.4+ MB\n"
     ]
    }
   ],
   "source": [
    "wells_data.info()"
   ]
  },
  {
   "cell_type": "markdown",
   "metadata": {},
   "source": [
    "\n",
    "#### Feature Engineering: `Age of Waterpoint.`\n",
    "\n",
    "To enhance the dataset, we created a new feature called `age_of_waterpoint`. This feature represents the age of the waterpoint at the time the data was recorded. It is calculated by subtracting the `construction_year` from the year extracted from the `date_recorded`.\n",
    "During our data analysis, we found that the `construction_year` column contains many zero values, which are unrealistic and likely indicate missing data. To address this, we replaced the zero values with the median of the non-zero construction years. The median is chosen because it is robust to outliers and represents a typical value in the dataset.\n",
    "\n"
   ]
  },
  {
   "cell_type": "code",
   "execution_count": 133,
   "metadata": {},
   "outputs": [
    {
     "data": {
      "text/plain": [
       "array([1999, 2010, 2009, 1986,    0, 2011, 1987, 1991, 1978, 1992, 2008,\n",
       "       1974, 2000, 2002, 2004, 1972, 2003, 2007, 1973, 1985, 1995, 2006,\n",
       "       1962, 2005, 1997, 1970, 1996, 1977, 1983, 2012, 1984, 1982, 1976,\n",
       "       1988, 1989, 1975, 1960, 1990, 1961, 1998, 1963, 1971, 1994, 1968,\n",
       "       1980, 1993, 2001, 1979, 1967, 1969, 1981, 2013, 1964, 1966, 1965],\n",
       "      dtype=int64)"
      ]
     },
     "execution_count": 133,
     "metadata": {},
     "output_type": "execute_result"
    }
   ],
   "source": [
    "# Convert 'date_recorded' to datetime data type\n",
    "wells_data['date_recorded'] = pd.to_datetime(wells_data['date_recorded'])\n",
    "\n",
    "# view column \"construction_year\"\n",
    "wells_data[\"construction_year\"].unique()\n"
   ]
  },
  {
   "cell_type": "code",
   "execution_count": 134,
   "metadata": {},
   "outputs": [
    {
     "data": {
      "text/html": [
       "<div>\n",
       "<style scoped>\n",
       "    .dataframe tbody tr th:only-of-type {\n",
       "        vertical-align: middle;\n",
       "    }\n",
       "\n",
       "    .dataframe tbody tr th {\n",
       "        vertical-align: top;\n",
       "    }\n",
       "\n",
       "    .dataframe thead th {\n",
       "        text-align: right;\n",
       "    }\n",
       "</style>\n",
       "<table border=\"1\" class=\"dataframe\">\n",
       "  <thead>\n",
       "    <tr style=\"text-align: right;\">\n",
       "      <th></th>\n",
       "      <th>date_recorded</th>\n",
       "      <th>construction_year</th>\n",
       "      <th>age_of_waterpoint</th>\n",
       "    </tr>\n",
       "  </thead>\n",
       "  <tbody>\n",
       "    <tr>\n",
       "      <th>7926</th>\n",
       "      <td>2011-07-23</td>\n",
       "      <td>2000</td>\n",
       "      <td>11</td>\n",
       "    </tr>\n",
       "    <tr>\n",
       "      <th>26490</th>\n",
       "      <td>2011-08-02</td>\n",
       "      <td>2000</td>\n",
       "      <td>11</td>\n",
       "    </tr>\n",
       "  </tbody>\n",
       "</table>\n",
       "</div>"
      ],
      "text/plain": [
       "      date_recorded  construction_year  age_of_waterpoint\n",
       "7926     2011-07-23               2000                 11\n",
       "26490    2011-08-02               2000                 11"
      ]
     },
     "execution_count": 134,
     "metadata": {},
     "output_type": "execute_result"
    }
   ],
   "source": [
    "# Calculate the median of non-zero construction years\n",
    "median_construction_year = wells_data[wells_data['construction_year'] != 0]['construction_year'].median()\n",
    "\n",
    "# Replace zero values with the median\n",
    "wells_data['construction_year'] = wells_data['construction_year'].replace(0, median_construction_year)\n",
    "\n",
    "# Calculate age of waterpoint\n",
    "wells_data['age_of_waterpoint'] = wells_data['date_recorded'].dt.year - wells_data['construction_year']\n",
    "\n",
    "# Check the new feature\n",
    "wells_data[['date_recorded', 'construction_year', 'age_of_waterpoint']].sample(2)"
   ]
  },
  {
   "cell_type": "markdown",
   "metadata": {},
   "source": [
    "#### Binary classification.\n",
    "To simplify the classification task and focus on distinguishing between functional and non-functional waterpoints, we created a new binary target with two categories:\n",
    "1. Functional: This class includes waterpoints that are operational and do not require any repairs.\n",
    "2. Non-Functional: This class includes waterpoints that are either not operational or require repairs.\n",
    "By converting the target variable to binary form, we aim to streamline the classification process and prioritize the identification of non-functional waterpoints for intervention and maintenance efforts. \n"
   ]
  },
  {
   "cell_type": "code",
   "execution_count": 135,
   "metadata": {},
   "outputs": [
    {
     "data": {
      "text/html": [
       "<div>\n",
       "<style scoped>\n",
       "    .dataframe tbody tr th:only-of-type {\n",
       "        vertical-align: middle;\n",
       "    }\n",
       "\n",
       "    .dataframe tbody tr th {\n",
       "        vertical-align: top;\n",
       "    }\n",
       "\n",
       "    .dataframe thead th {\n",
       "        text-align: right;\n",
       "    }\n",
       "</style>\n",
       "<table border=\"1\" class=\"dataframe\">\n",
       "  <thead>\n",
       "    <tr style=\"text-align: right;\">\n",
       "      <th></th>\n",
       "      <th>status_group</th>\n",
       "    </tr>\n",
       "  </thead>\n",
       "  <tbody>\n",
       "    <tr>\n",
       "      <th>15528</th>\n",
       "      <td>Non-Functional</td>\n",
       "    </tr>\n",
       "    <tr>\n",
       "      <th>2935</th>\n",
       "      <td>Functional</td>\n",
       "    </tr>\n",
       "    <tr>\n",
       "      <th>18617</th>\n",
       "      <td>Non-Functional</td>\n",
       "    </tr>\n",
       "  </tbody>\n",
       "</table>\n",
       "</div>"
      ],
      "text/plain": [
       "         status_group\n",
       "15528  Non-Functional\n",
       "2935       Functional\n",
       "18617  Non-Functional"
      ]
     },
     "execution_count": 135,
     "metadata": {},
     "output_type": "execute_result"
    }
   ],
   "source": [
    "# Replace 'status_group' with binary labels\n",
    "wells_data['status_group'] = wells_data['status_group'].replace({'functional': 'Functional', \n",
    "                                                           'non functional': 'Non-Functional', \n",
    "                                                           'functional needs repair': 'Non-Functional'})\n",
    "wells_data[['status_group']].sample(3, random_state=42)"
   ]
  },
  {
   "cell_type": "code",
   "execution_count": 136,
   "metadata": {},
   "outputs": [
    {
     "name": "stdout",
     "output_type": "stream",
     "text": [
      "Numerical Columns:\n",
      "Index(['id', 'amount_tsh', 'gps_height', 'population', 'construction_year',\n",
      "       'age_of_waterpoint'],\n",
      "      dtype='object')\n",
      "\n",
      "Categorical Columns:\n",
      "Index(['funder', 'installer', 'basin', 'region', 'permit', 'extraction_type',\n",
      "       'management_group', 'payment_type', 'quality_group', 'quantity',\n",
      "       'source_type', 'waterpoint_type_group', 'status_group'],\n",
      "      dtype='object')\n"
     ]
    }
   ],
   "source": [
    "# Function that Separates categorical columns from numerical columns.\n",
    " \n",
    "\n",
    "def separate_columns(df):\n",
    "   \n",
    "    # Identify categorical and numerical columns\n",
    "    categorical_cols = df.select_dtypes(include=['object']).columns\n",
    "    numerical_cols = df.select_dtypes(include=['number']).columns\n",
    "    \n",
    "    return numerical_cols, categorical_cols\n",
    "\n",
    "numerical_cols, categorical_cols = separate_columns(wells_data)\n",
    "print(\"Numerical Columns:\")\n",
    "print(numerical_cols)\n",
    "print(\"\\nCategorical Columns:\")\n",
    "print(categorical_cols)\n"
   ]
  },
  {
   "cell_type": "markdown",
   "metadata": {},
   "source": [
    "##### Check for outliers in our dataset."
   ]
  },
  {
   "cell_type": "code",
   "execution_count": 137,
   "metadata": {},
   "outputs": [],
   "source": [
    "# outlier function.\n",
    "# Function to plot boxplot\n",
    "def box_plot(data, column, hue=None):\n",
    "    plt.figure(figsize=(6, 3))\n",
    "    sns.boxplot(x=column, data=data, hue=hue)\n",
    "    plt.title(f\"{column} outliers\")\n",
    "    plt.show()\n",
    "\n",
    "# Helper function to remove outliers from a specified column using the IQR method.\n",
    "def remove_outliers(df, column):\n",
    "    Q1 = df[column].quantile(0.25)\n",
    "    Q3 = df[column].quantile(0.75)\n",
    "    IQR = Q3 - Q1\n",
    "    lower_bound = Q1 - 1.5 * IQR\n",
    "    upper_bound = Q3 + 1.5 * IQR\n",
    "    filtered_df = df[(df[column] >= lower_bound) & (df[column] <= upper_bound)]\n",
    "    return filtered_df\n"
   ]
  },
  {
   "cell_type": "code",
   "execution_count": 148,
   "metadata": {},
   "outputs": [
    {
     "data": {
      "image/png": "[encoded data removed]",
      "text/plain": [
       "<Figure size 600x300 with 1 Axes>"
      ]
     },
     "metadata": {},
     "output_type": "display_data"
    },
    {
     "name": "stdout",
     "output_type": "stream",
     "text": [
      "326.8382101343989\n"
     ]
    }
   ],
   "source": [
    "box_plot(wells_data,'amount_tsh')\n",
    "print(wells_data[\"amount_tsh\"].mean())"
   ]
  },
  {
   "cell_type": "code",
   "execution_count": 149,
   "metadata": {},
   "outputs": [
    {
     "data": {
      "image/png": "[encoded data removed]",
      "text/plain": [
       "<Figure size 600x300 with 1 Axes>"
      ]
     },
     "metadata": {},
     "output_type": "display_data"
    },
    {
     "name": "stdout",
     "output_type": "stream",
     "text": [
      "326.8382101343989\n"
     ]
    }
   ],
   "source": [
    "remove_outliers(wells_data, \"amount_tsh\")\n",
    "box_plot(wells_data,'amount_tsh')\n",
    "print(wells_data[\"amount_tsh\"].mean())"
   ]
  },
  {
   "cell_type": "code",
   "execution_count": 146,
   "metadata": {},
   "outputs": [
    {
     "data": {
      "image/png": "[encoded data removed]",
      "text/plain": [
       "<Figure size 600x300 with 1 Axes>"
      ]
     },
     "metadata": {},
     "output_type": "display_data"
    },
    {
     "name": "stdout",
     "output_type": "stream",
     "text": [
      "670.2096985107156\n"
     ]
    }
   ],
   "source": [
    "box_plot(wells_data,'gps_height')\n",
    "print(wells_data[\"gps_height\"].mean())"
   ]
  },
  {
   "cell_type": "code",
   "execution_count": 147,
   "metadata": {},
   "outputs": [
    {
     "data": {
      "image/png": "[encoded data removed]",
      "text/plain": [
       "<Figure size 600x300 with 1 Axes>"
      ]
     },
     "metadata": {},
     "output_type": "display_data"
    },
    {
     "name": "stdout",
     "output_type": "stream",
     "text": [
      "670.2096985107156\n"
     ]
    }
   ],
   "source": [
    "remove_outliers(wells_data, \"gps_height\")\n",
    "box_plot(wells_data,'gps_height')\n",
    "print(wells_data[\"gps_height\"].mean())"
   ]
  },
  {
   "cell_type": "code",
   "execution_count": 142,
   "metadata": {},
   "outputs": [
    {
     "data": {
      "image/png": "[encoded data removed]",
      "text/plain": [
       "<Figure size 600x300 with 1 Axes>"
      ]
     },
     "metadata": {},
     "output_type": "display_data"
    },
    {
     "name": "stdout",
     "output_type": "stream",
     "text": [
      "182.76195059934616\n"
     ]
    }
   ],
   "source": [
    "box_plot(wells_data,'population')\n",
    "print(wells_data[\"population\"].mean())"
   ]
  },
  {
   "cell_type": "code",
   "execution_count": 143,
   "metadata": {},
   "outputs": [
    {
     "data": {
      "image/png": "[encoded data removed]",
      "text/plain": [
       "<Figure size 600x300 with 1 Axes>"
      ]
     },
     "metadata": {},
     "output_type": "display_data"
    },
    {
     "name": "stdout",
     "output_type": "stream",
     "text": [
      "182.76195059934616\n"
     ]
    }
   ],
   "source": [
    "remove_outliers(wells_data, \"population\")\n",
    "box_plot(wells_data,'population')\n",
    "print(wells_data[\"population\"].mean())"
   ]
  },
  {
   "cell_type": "markdown",
   "metadata": {},
   "source": [
    "Data Distribution: The majority of the data might still fall within the IQR bounds, leaving extreme values that still appear as outliers."
   ]
  }
 ],
 "metadata": {
  "kernelspec": {
   "display_name": "base",
   "language": "python",
   "name": "python3"
  },
  "language_info": {
   "codemirror_mode": {
    "name": "ipython",
    "version": 3
   },
   "file_extension": ".py",
   "mimetype": "text/x-python",
   "name": "python",
   "nbconvert_exporter": "python",
   "pygments_lexer": "ipython3",
   "version": "3.11.7"
  }
 },
 "nbformat": 4,
 "nbformat_minor": 2
}
