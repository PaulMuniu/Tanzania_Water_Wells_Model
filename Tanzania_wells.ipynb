{
 "cells": [
  {
   "cell_type": "markdown",
   "metadata": {},
   "source": [
    "# Tanzania Water Wells 🚰 Prediction Model.\n",
    "*By Muniu Paul ™️*"
   ]
  },
  {
   "cell_type": "markdown",
   "metadata": {},
   "source": [
    "## 1. BUSINESS UNDERSTANDING.\n",
    "### Overview.\n",
    "Tanzania, a developing country with a population of 68.42 million as of January 2024, faces significant challenges in providing clean water to its people. According to a recent United Nations World Water Development Report, around 2 billion people globally lack access to clean and safe drinking water. In Tanzania, the crisis is even more acute: out of its 65 million people, 58 million (88% of the population) lack access to safe water. This severe shortage of clean water exacerbates health issues, economic hardships, and educational disparities across the country.\n",
    "\n",
    "### Problem Statement.\n",
    "The aim of this project is to predict the operational status of water wells in Tanzania using data on various features such as the type of pump, the year it was installed, and the management practices. Accurately predicting which water points are functional, which need repairs and which are non-functional will enable more effective maintenance operations and improve access to clean water for Tanzanian communities.\n",
    "\n",
    "### Objectives.\n",
    "1. Data Analysis and Preprocessing: Thoroughly analyze and clean the dataset to ensure it is suitable for modeling.\n",
    "2. Model Development: Train and evaluate multiple classification models to identify the most accurate and precise model for predicting the status of water wells.\n",
    "3. Model Evaluation: Use accuracy and precision as the primary metrics to evaluate the model's performance. These metrics will help determine how well the model identifies the status of water wells given various factors.\n",
    "4. Deployment: Deploy the final model to our stakeholders, to aid in making data-driven decisions for maintaining and improving water access in Tanzania.\n",
    "\n",
    "### Stakeholder: **WaterAid**\n",
    "*Organization Overview.*\n",
    "\n",
    "WaterAid is an international non-governmental organization (NGO) based in the United Kingdom. The organization is dedicated exclusively to ensuring equitable access to safe water, sanitation and hygiene education for the world’s poorest communities. WaterAid has a profound impact on improving health, education, and economic opportunities by providing sustainable solutions for water and sanitation.\n",
    "\n",
    "*Project Mandate.*\n",
    "\n",
    "WaterAid has tasked us with developing a predictive model to determine the operational status of water wells in Tanzania. This life-changing project aims to optimize the allocation of resources for maintenance and repair, ensuring that more people have access to clean and safe drinking water. By leveraging data-driven insights, WaterAid can enhance its mission of providing essential water services to underserved communities and contribute to global efforts in alleviating water and sanitation crises."
   ]
  },
  {
   "cell_type": "markdown",
   "metadata": {},
   "source": [
    "# 2. DATA UNDERSTANDING.\n",
    "The dataset provided by [Taarifa](https://taarifa.org/) and the [Tanzanian Ministry of Water](https://www.maji.go.tz/) contains extensive information about various water points across Tanzania. "
   ]
  },
  {
   "cell_type": "markdown",
   "metadata": {},
   "source": [
    "##### Importing packages/libraries"
   ]
  },
  {
   "cell_type": "code",
   "execution_count": 1,
   "metadata": {},
   "outputs": [],
   "source": [
    "import pandas as pandas\n",
    "import numpy as np\n",
    "import seaborn as sns\n",
    "import matplotlib.pyplot as plt\n",
    "\n",
    "%matplotlib inline\n",
    "\n",
    "\n",
    "from sklearn.preprocessing import OneHotEncoder, StandardScaler\n",
    "from sklearn.impute import SimpleImputer\n",
    "from sklearn.model_selection import train_test_split, cross_val_score, cross_validate, GridSearchCV\n",
    "from sklearn.metrics import confusion_matrix, precision_score, accuracy_score\n",
    "from sklearn.linear_model import LogisticRegression\n",
    "from sklearn.tree import DecisionTreeClassifier\n",
    "from sklearn.neighbors import KNeighborsClassifier\n",
    "from sklearn.ensemble import RandomForestClassifier\n",
    "from sklearn.metrics import classification_report\n",
    "import warnings\n",
    "warnings.filterwarnings('ignore')\n"
   ]
  },
  {
   "cell_type": "markdown",
   "metadata": {},
   "source": [
    "##### Loading the Dataset"
   ]
  },
  {
   "cell_type": "code",
   "execution_count": 2,
   "metadata": {},
   "outputs": [
    {
     "name": "stdout",
     "output_type": "stream",
     "text": [
      "<class 'pandas.core.frame.DataFrame'>\n",
      "RangeIndex: 59400 entries, 0 to 59399\n",
      "Data columns (total 40 columns):\n",
      " #   Column                 Non-Null Count  Dtype  \n",
      "---  ------                 --------------  -----  \n",
      " 0   id                     59400 non-null  int64  \n",
      " 1   amount_tsh             59400 non-null  float64\n",
      " 2   date_recorded          59400 non-null  object \n",
      " 3   funder                 55763 non-null  object \n",
      " 4   gps_height             59400 non-null  int64  \n",
      " 5   installer              55745 non-null  object \n",
      " 6   longitude              59400 non-null  float64\n",
      " 7   latitude               59400 non-null  float64\n",
      " 8   wpt_name               59398 non-null  object \n",
      " 9   num_private            59400 non-null  int64  \n",
      " 10  basin                  59400 non-null  object \n",
      " 11  subvillage             59029 non-null  object \n",
      " 12  region                 59400 non-null  object \n",
      " 13  region_code            59400 non-null  int64  \n",
      " 14  district_code          59400 non-null  int64  \n",
      " 15  lga                    59400 non-null  object \n",
      " 16  ward                   59400 non-null  object \n",
      " 17  population             59400 non-null  int64  \n",
      " 18  public_meeting         56066 non-null  object \n",
      " 19  recorded_by            59400 non-null  object \n",
      " 20  scheme_management      55522 non-null  object \n",
      " 21  scheme_name            30590 non-null  object \n",
      " 22  permit                 56344 non-null  object \n",
      " 23  construction_year      59400 non-null  int64  \n",
      " 24  extraction_type        59400 non-null  object \n",
      " 25  extraction_type_group  59400 non-null  object \n",
      " 26  extraction_type_class  59400 non-null  object \n",
      " 27  management             59400 non-null  object \n",
      " 28  management_group       59400 non-null  object \n",
      " 29  payment                59400 non-null  object \n",
      " 30  payment_type           59400 non-null  object \n",
      " 31  water_quality          59400 non-null  object \n",
      " 32  quality_group          59400 non-null  object \n",
      " 33  quantity               59400 non-null  object \n",
      " 34  quantity_group         59400 non-null  object \n",
      " 35  source                 59400 non-null  object \n",
      " 36  source_type            59400 non-null  object \n",
      " 37  source_class           59400 non-null  object \n",
      " 38  waterpoint_type        59400 non-null  object \n",
      " 39  waterpoint_type_group  59400 non-null  object \n",
      "dtypes: float64(3), int64(7), object(30)\n",
      "memory usage: 18.1+ MB\n"
     ]
    }
   ],
   "source": [
    "import pandas as pd\n",
    "data_values = pd.read_csv(\"Data/wells_data_values.csv\")\n",
    "data_values.info()\n",
    "\n",
    "# function \n"
   ]
  },
  {
   "cell_type": "markdown",
   "metadata": {},
   "source": [
    "The dataset consits of a total of 40 Columns and 59400 records. The features include:\n",
    "\n",
    "`amount_tsh`: Total static head (amount of water available to the waterpoint)\n",
    "\n",
    "`date_recorded`: The date the row was entered\n",
    "\n",
    "`funder`: The entity that funded the well\n",
    "\n",
    "`gps_height`: Altitude of the well\n",
    "\n",
    "`installer`: Organization that installed the well\n",
    "\n",
    "`longitude`: GPS coordinate\n",
    "\n",
    "`latitude`: GPS coordinate\n",
    "\n",
    "`wpt_name`: Name of the waterpoint, if there is one\n",
    "\n",
    "`num_private`: Not specified (likely an identifier for private records)\n",
    "\n",
    "`basin`: Geographic water basin\n",
    "\n",
    "`subvillage`: Geographic location\n",
    "\n",
    "`region`: Geographic location\n",
    "\n",
    "`region_code`: Geographic location (coded)\n",
    "\n",
    "`district_code`: Geographic location (coded)\n",
    "\n",
    "`lga`: Local Government Area\n",
    "\n",
    "`ward`: Geographic location\n",
    "\n",
    "`population`: Population around the well\n",
    "\n",
    "`public_meeting`: Boolean indicating if a public meeting was held\n",
    "\n",
    "`recorded_by`: Group entering this row of data\n",
    "\n",
    "`scheme_management`: Entity responsible for managing the water scheme\n",
    "\n",
    "`scheme_name`: Name of the water scheme\n",
    "\n",
    "`permit`: Boolean indicating if the waterpoint is permitted\n",
    "\n",
    "`construction_year`: Year the waterpoint was constructed\n",
    "\n",
    "`extraction_type`: Type of extraction used by the waterpoint\n",
    "\n",
    "`extraction_type_group`: Group classification of extraction type\n",
    "\n",
    "`extraction_type_class`: Class classification of extraction type\n",
    "\n",
    "`management`: How the waterpoint is managed\n",
    "\n",
    "`management_group`: Group classification of management type\n",
    "\n",
    "`payment`: Type of payment for water\n",
    "\n",
    "`payment_type`: Group classification of payment type\n",
    "\n",
    "`water_quality`: Quality of the water\n",
    "\n",
    "`quality_group`: Group classification of water quality\n",
    "\n",
    "`quantity`: Quantity of water\n",
    "\n",
    "`quantity_group`: Group classification of water quantity\n",
    "\n",
    "`source`: Source of the water\n",
    "\n",
    "`source_type`: Group classification of water source\n",
    "\n",
    "`source_class`: Class classification of water source\n",
    "\n",
    "`waterpoint_type`: Type of waterpoint\n",
    "\n",
    "`waterpoint_type_group`: Group classification of waterpoint type\n",
    "\n"
   ]
  },
  {
   "cell_type": "code",
   "execution_count": 3,
   "metadata": {},
   "outputs": [
    {
     "name": "stdout",
     "output_type": "stream",
     "text": [
      "<class 'pandas.core.frame.DataFrame'>\n",
      "RangeIndex: 59400 entries, 0 to 59399\n",
      "Data columns (total 2 columns):\n",
      " #   Column        Non-Null Count  Dtype \n",
      "---  ------        --------------  ----- \n",
      " 0   id            59400 non-null  int64 \n",
      " 1   status_group  59400 non-null  object\n",
      "dtypes: int64(1), object(1)\n",
      "memory usage: 928.3+ KB\n",
      "\n",
      "1.functional\n",
      "2.non functional\n",
      "3.functional needs repair\n"
     ]
    }
   ],
   "source": [
    "data_labels = pd.read_csv(\"Data/wells_data_labels.csv\")\n",
    "data_labels.info()\n",
    "print()\n",
    "for index, status_group  in enumerate(data_labels[\"status_group\"].unique() , start=1):\n",
    "    print(f\"{index}.{status_group}\")"
   ]
  },
  {
   "cell_type": "markdown",
   "metadata": {},
   "source": [
    "Target Variable\n",
    "The target variable is the operational status \"`status_group`\" of the water point, which has three possible values:\n",
    "\n",
    "1. `Functional`: The waterpoint is operational, and no repairs are needed.\n",
    "2. `Non functional`: The waterpoint is not operational.\n",
    "3. `Functional needs repair`: The waterpoint is operational but requires repairs.\n"
   ]
  },
  {
   "cell_type": "code",
   "execution_count": null,
   "metadata": {},
   "outputs": [],
   "source": []
  }
 ],
 "metadata": {
  "kernelspec": {
   "display_name": "base",
   "language": "python",
   "name": "python3"
  },
  "language_info": {
   "codemirror_mode": {
    "name": "ipython",
    "version": 3
   },
   "file_extension": ".py",
   "mimetype": "text/x-python",
   "name": "python",
   "nbconvert_exporter": "python",
   "pygments_lexer": "ipython3",
   "version": "3.11.7"
  }
 },
 "nbformat": 4,
 "nbformat_minor": 2
}
